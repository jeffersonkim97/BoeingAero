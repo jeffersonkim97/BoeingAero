{
 "cells": [
  {
   "cell_type": "markdown",
   "metadata": {},
   "source": [
    "Longitudinal Dynamics: \n",
    "\n",
    "S = Wing Area\n",
    "CBAR = Average Chord Length\n",
    "MASS = Mass of aircraft\n",
    "IYY = y directional inertial\n",
    "TSTAT = Static Thrust\n",
    "DTDV = Thrust per speed (Ns/m)\n",
    "CDCLS = Drag Polar (CD per CL)\n",
    "CLA = CL per angle of attack\n",
    "CMA = CM per angle of attack"
   ]
  }
 ],
 "metadata": {
  "kernelspec": {
   "display_name": "Python 3",
   "language": "python",
   "name": "python3"
  },
  "language_info": {
   "codemirror_mode": {
    "name": "ipython",
    "version": 3
   },
   "file_extension": ".py",
   "mimetype": "text/x-python",
   "name": "python",
   "nbconvert_exporter": "python",
   "pygments_lexer": "ipython3",
   "version": "3.7.3"
  }
 },
 "nbformat": 4,
 "nbformat_minor": 4
}
