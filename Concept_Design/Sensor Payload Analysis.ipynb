{
 "cells": [
  {
   "cell_type": "code",
   "execution_count": 1,
   "metadata": {},
   "outputs": [],
   "source": [
    "import matplotlib.pyplot as plt\n",
    "import numpy as np\n",
    "%matplotlib inline"
   ]
  },
  {
   "cell_type": "code",
   "execution_count": 2,
   "metadata": {},
   "outputs": [],
   "source": [
    "# Unit Conversion\n",
    "lbs2kg = 0.453592 # lbs to kg (Weight)\n",
    "slugft2kgm = 1.35581795 # slug ft^2 to kg m^2 (Intertia)\n",
    "mi2km = 1.60934 # Mi to Km (Distance)"
   ]
  },
  {
   "cell_type": "code",
   "execution_count": 3,
   "metadata": {},
   "outputs": [],
   "source": [
    "# Camera Data Dictionary\n",
    "optics = {'MAVIC2': {'f': 28, 'h': 25.4},\n",
    "          'GoProHero7': {'f': 24, 'h': 6.17},\n",
    "          'NightEagle': {'f': 24, 'h': 25.4},\n",
    "          'Hybrid': {'f': 24, 'h': 12}}"
   ]
  },
  {
   "cell_type": "code",
   "execution_count": 4,
   "metadata": {},
   "outputs": [],
   "source": [
    "# Optical Camera Analysis\n",
    "# Aircraft Speed Constrained by Optic\n",
    "\n",
    "def optic_sensor(optics, model):\n",
    "    return optics[model]\n",
    "\n",
    "def optic_analysis(sensor_model, param):\n",
    "    f = sensor_model['f']\n",
    "    h = sensor_model['h']\n",
    "    P = param[0]\n",
    "    frame_rate = param[1]\n",
    "    H = param[2]\n",
    "    \n",
    "    AFOV = 2*np.arctan(h/(2*f))\n",
    "    S = 2*H*np.tan(AFOV/2) # m\n",
    "    VT = frame_rate / (S*(1 - P)) # m/s\n",
    "    t_exp = 1 # Flight Time (sec)\n",
    "    Width = VT*t_exp\n",
    "    A = S*Width # m^2\n",
    "    \n",
    "    return [VT, A]"
   ]
  },
  {
   "cell_type": "code",
   "execution_count": 5,
   "metadata": {},
   "outputs": [
    {
     "name": "stdout",
     "output_type": "stream",
     "text": [
      "Model Name:  MAVIC2\n",
      "VT:  6.6141732283464565 m/s\n",
      "A:  120.0 m^2/s\n",
      "\n",
      "Model Name:  GoProHero7\n",
      "VT:  23.3387358184765 m/s\n",
      "A:  120.0 m^2/s\n",
      "\n",
      "Model Name:  NightEagle\n",
      "VT:  5.669291338582677 m/s\n",
      "A:  120.0 m^2/s\n",
      "\n",
      "Model Name:  Hybrid\n",
      "VT:  12.0 m/s\n",
      "A:  120.0 m^2/s\n",
      "\n"
     ]
    }
   ],
   "source": [
    "model = ['MAVIC2', 'GoProHero7', 'NightEagle', 'Hybrid']\n",
    "\n",
    "# Input Parameter: [P, frame rate, H]\n",
    "param = [0.5, 30, 15]\n",
    "\n",
    "VT = []\n",
    "A = []\n",
    "\n",
    "for i in range(len(model)):\n",
    "    model_name = model[i]\n",
    "    sensor_model = optic_sensor(optics, model_name)\n",
    "    VT_i, A_i = optic_analysis(sensor_model, param)\n",
    "    VT.append(VT_i)\n",
    "    A.append(A_i)\n",
    "    print('Model Name: ', model_name)\n",
    "    print('VT: ', VT_i, 'm/s')\n",
    "    print('A: ', A_i, 'm^2/s')\n",
    "    print('')"
   ]
  },
  {
   "cell_type": "code",
   "execution_count": null,
   "metadata": {},
   "outputs": [],
   "source": []
  }
 ],
 "metadata": {
  "kernelspec": {
   "display_name": "Python 3",
   "language": "python",
   "name": "python3"
  },
  "language_info": {
   "codemirror_mode": {
    "name": "ipython",
    "version": 3
   },
   "file_extension": ".py",
   "mimetype": "text/x-python",
   "name": "python",
   "nbconvert_exporter": "python",
   "pygments_lexer": "ipython3",
   "version": "3.7.3"
  }
 },
 "nbformat": 4,
 "nbformat_minor": 4
}
