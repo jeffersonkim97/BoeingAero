{
 "cells": [
  {
   "cell_type": "markdown",
   "metadata": {},
   "source": [
    "# Design Optimization\n",
    "\n",
    "This notebook goes over design optimization process by determining important aircraft state and finding optimized dimension around it"
   ]
  },
  {
   "cell_type": "markdown",
   "metadata": {},
   "source": [
    "From the mission, we know that important aspects of the designed aircraft should be\n",
    "* Flight Distance D - Covering long range survey\n",
    "* Altitude Hight H - Optimal resolution for nest detection\n",
    "* Speed VT - Speed of aircraft to cover area effectively\n",
    "* TBD\n"
   ]
  },
  {
   "cell_type": "markdown",
   "metadata": {},
   "source": [
    "The payload of the mission is a camera. An altitude $H$ and speed $VT$ will be determiend based on optimal hight and frame update rate of the camera. Therefore, sensor payload data must be used to compute optimal flight hight and speed."
   ]
  },
  {
   "cell_type": "markdown",
   "metadata": {},
   "source": [
    "Based on mission requirement and FAA regulation, we have constraints set up, as listed below:\n",
    "* Aircraft Weight $\\leq$ 12.5 lbs\n",
    "* Aircraft Sizing requirements (TBA)"
   ]
  },
  {
   "cell_type": "code",
   "execution_count": null,
   "metadata": {},
   "outputs": [],
   "source": [
    "# Procedure for analysis\n",
    "# 1. Find H, VT optimal based on sensor spec (GoPro Cameras)\n",
    "# 2. From H, VT, and Flight Distance input, determine power required & battery amount\n",
    "# 3. Based on battery amount & power source, estimate aircraft weight from statistical data of UAVs\n",
    "# 4. From weight, Lift can be determined at steady flight // determine wing characteristic and subsequent drag characteristic\n",
    "# 5. From wing characteristic, determine optimized aircraft sizing"
   ]
  }
 ],
 "metadata": {
  "kernelspec": {
   "display_name": "Python 3",
   "language": "python",
   "name": "python3"
  },
  "language_info": {
   "codemirror_mode": {
    "name": "ipython",
    "version": 3
   },
   "file_extension": ".py",
   "mimetype": "text/x-python",
   "name": "python",
   "nbconvert_exporter": "python",
   "pygments_lexer": "ipython3",
   "version": "3.7.3"
  }
 },
 "nbformat": 4,
 "nbformat_minor": 2
}
